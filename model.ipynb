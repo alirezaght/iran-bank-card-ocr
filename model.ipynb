{
  "nbformat": 4,
  "nbformat_minor": 0,
  "metadata": {
    "colab": {
      "name": "model.ipynb",
      "provenance": [],
      "include_colab_link": true
    },
    "kernelspec": {
      "name": "python3",
      "display_name": "Python 3"
    },
    "language_info": {
      "name": "python"
    },
    "accelerator": "TPU"
  },
  "cells": [
    {
      "cell_type": "markdown",
      "metadata": {
        "id": "view-in-github",
        "colab_type": "text"
      },
      "source": [
        "<a href=\"https://colab.research.google.com/github/alirezaght/iran-bank-card-ocr/blob/main/model.ipynb\" target=\"_parent\"><img src=\"https://colab.research.google.com/assets/colab-badge.svg\" alt=\"Open In Colab\"/></a>"
      ]
    },
    {
      "cell_type": "code",
      "metadata": {
        "colab": {
          "base_uri": "https://localhost:8080/"
        },
        "id": "VKPxmqIX6IUi",
        "outputId": "38e5f798-447c-45b5-ecdf-212563fff479"
      },
      "source": [
        "from google.colab import drive\n",
        "drive.mount('/content/drive')"
      ],
      "execution_count": 26,
      "outputs": [
        {
          "output_type": "stream",
          "name": "stdout",
          "text": [
            "Drive already mounted at /content/drive; to attempt to forcibly remount, call drive.mount(\"/content/drive\", force_remount=True).\n"
          ]
        }
      ]
    },
    {
      "cell_type": "markdown",
      "metadata": {
        "id": "_-FX3pXkWkE8"
      },
      "source": [
        "#Install yolov5"
      ]
    },
    {
      "cell_type": "code",
      "metadata": {
        "colab": {
          "base_uri": "https://localhost:8080/"
        },
        "id": "pN1KVOmWWm9p",
        "outputId": "c263fddb-df1e-4377-b1d1-ae3966412ef3"
      },
      "source": [
        "#clone YOLOv5 and \n",
        "!git clone https://github.com/ultralytics/yolov5  # clone repo\n",
        "%cd yolov5\n",
        "%pip install -qr requirements.txt # install dependencies\n",
        "\n",
        "import torch\n",
        "import os\n",
        "from IPython.display import Image, clear_output  # to display images\n",
        "\n",
        "print(f\"Setup complete. Using torch {torch.__version__} ({torch.cuda.get_device_properties(0).name if torch.cuda.is_available() else 'CPU'})\")"
      ],
      "execution_count": 27,
      "outputs": [
        {
          "output_type": "stream",
          "name": "stdout",
          "text": [
            "Cloning into 'yolov5'...\n",
            "remote: Enumerating objects: 9893, done.\u001b[K\n",
            "remote: Counting objects: 100% (92/92), done.\u001b[K\n",
            "remote: Compressing objects: 100% (61/61), done.\u001b[K\n",
            "remote: Total 9893 (delta 51), reused 57 (delta 31), pack-reused 9801\u001b[K\n",
            "Receiving objects: 100% (9893/9893), 10.31 MiB | 25.94 MiB/s, done.\n",
            "Resolving deltas: 100% (6843/6843), done.\n",
            "/content/yolov5/yolov5\n",
            "Setup complete. Using torch 1.10.0+cu111 (CPU)\n"
          ]
        }
      ]
    },
    {
      "cell_type": "code",
      "metadata": {
        "id": "8XeQzRWLb-Vs"
      },
      "source": [
        "import torch\n",
        "from IPython.display import Image  # for displaying images\n",
        "import os \n",
        "import random\n",
        "import shutil\n",
        "from sklearn.model_selection import train_test_split\n",
        "import xml.etree.ElementTree as ET\n",
        "from xml.dom import minidom\n",
        "from tqdm import tqdm\n",
        "from PIL import Image, ImageDraw\n",
        "import numpy as np\n",
        "import matplotlib.pyplot as plt\n",
        "\n",
        "random.seed(108)"
      ],
      "execution_count": 28,
      "outputs": []
    },
    {
      "cell_type": "markdown",
      "metadata": {
        "id": "rfI_Ympm7Iq0"
      },
      "source": [
        "# Prepare data"
      ]
    },
    {
      "cell_type": "markdown",
      "metadata": {
        "id": "KtxIauOp-WsI"
      },
      "source": [
        "Check the graphic driver"
      ]
    },
    {
      "cell_type": "code",
      "metadata": {
        "colab": {
          "base_uri": "https://localhost:8080/"
        },
        "id": "gR3wb732-I8l",
        "outputId": "d6975704-49d5-4fdc-ad09-c9083ee5b348"
      },
      "source": [
        "!nvidia-smi"
      ],
      "execution_count": 5,
      "outputs": [
        {
          "output_type": "stream",
          "name": "stdout",
          "text": [
            "NVIDIA-SMI has failed because it couldn't communicate with the NVIDIA driver. Make sure that the latest NVIDIA driver is installed and running.\n",
            "\n"
          ]
        }
      ]
    },
    {
      "cell_type": "markdown",
      "metadata": {
        "id": "1EJkOywHpuzi"
      },
      "source": [
        "## Set Path"
      ]
    },
    {
      "cell_type": "code",
      "metadata": {
        "id": "KC37oYM8pwvg"
      },
      "source": [
        "path = 'drive/MyDrive/Colab Notebooks/data'\n"
      ],
      "execution_count": 29,
      "outputs": []
    },
    {
      "cell_type": "markdown",
      "metadata": {
        "id": "7fIiN04uplUu"
      },
      "source": [
        "## Remove unlabeld images\n"
      ]
    },
    {
      "cell_type": "code",
      "metadata": {
        "colab": {
          "base_uri": "https://localhost:8080/"
        },
        "id": "kwGjP25opplT",
        "outputId": "4a5f0a3b-326f-4c19-e4de-ef88a1984659"
      },
      "source": [
        "%cd /content\n",
        "import json\n",
        "\n",
        "def remove_unlabeled_files():\n",
        "  labels = os.listdir(f'{path}/labels')\n",
        "  images = os.listdir(f'{path}/images')\n",
        "  for image in images:\n",
        "    found = False\n",
        "    for label in labels:\n",
        "      if label.startswith(image.split('.')[0]):\n",
        "        found = True\n",
        "        break\n",
        "    if not found:\n",
        "      os.remove(f'{path}/images/{image}')\n",
        "      print(f\"Removed file {image}\")\n",
        "\n",
        "remove_unlabeled_files()\n"
      ],
      "execution_count": 30,
      "outputs": [
        {
          "output_type": "stream",
          "name": "stdout",
          "text": [
            "/content\n"
          ]
        }
      ]
    },
    {
      "cell_type": "markdown",
      "metadata": {
        "id": "1OpvDyUYp_y6"
      },
      "source": [
        "## Prepare annotations and images"
      ]
    },
    {
      "cell_type": "code",
      "metadata": {
        "id": "Y84WrhQVcZb1"
      },
      "source": [
        "random.seed(0)\n",
        "\n",
        "def prepare_labels():\n",
        "  labels = {}\n",
        "  notes = open(f'{path}/notes.json')\n",
        "  categories = json.load(notes)['categories']\n",
        "  for item in categories:\n",
        "    labels[item['id']] = item['name']\n",
        "  return labels\n",
        "\n",
        "def get_image(label_file):\n",
        "  list_images = {x.split('.')[0]:x for x in os.listdir(f'{path}/images')}  \n",
        "  image_name = label_file.split('.')[0]    \n",
        "  if image_name in list_images:\n",
        "      return f'{path}/images/{list_images[image_name]}'\n",
        "\n",
        "\n",
        "class_id_to_name_mapping = prepare_labels()\n",
        "\n",
        "def plot_bounding_box(image, annotation_list):\n",
        "    annotations = np.array(annotation_list)\n",
        "    w, h = image.size\n",
        "    \n",
        "    plotted_image = ImageDraw.Draw(image)\n",
        "\n",
        "    transformed_annotations = np.copy(annotations)\n",
        "    transformed_annotations[:,[1,3]] = annotations[:,[1,3]] * w\n",
        "    transformed_annotations[:,[2,4]] = annotations[:,[2,4]] * h \n",
        "    \n",
        "    transformed_annotations[:,1] = transformed_annotations[:,1] - (transformed_annotations[:,3] / 2)\n",
        "    transformed_annotations[:,2] = transformed_annotations[:,2] - (transformed_annotations[:,4] / 2)\n",
        "    transformed_annotations[:,3] = transformed_annotations[:,1] + transformed_annotations[:,3]\n",
        "    transformed_annotations[:,4] = transformed_annotations[:,2] + transformed_annotations[:,4]\n",
        "    \n",
        "    for ann in transformed_annotations:\n",
        "        obj_cls, x0, y0, x1, y1 = ann\n",
        "        plotted_image.rectangle(((x0,y0), (x1,y1)))\n",
        "        \n",
        "        plotted_image.text((x0, y0 - 10), class_id_to_name_mapping[(int(obj_cls))])\n",
        "    \n",
        "    plt.imshow(np.array(image))\n",
        "    plt.show()\n",
        "\n",
        "annotations = os.listdir(f'{path}/labels/')\n",
        "\n",
        "# Get any random annotation file \n",
        "annotation_file = random.choice(annotations)\n",
        "with open(f'{path}/labels/{annotation_file}', \"r\") as file:\n",
        "    annotation_list = file.read().split(\"\\n\")[:-1]\n",
        "    annotation_list = [x.split(\" \") for x in annotation_list]\n",
        "    annotation_list = [[float(y) for y in x ] for x in annotation_list]\n",
        "\n",
        "#Get the corresponding image file\n",
        "image_file = get_image(annotation_file)\n",
        "assert os.path.exists(image_file)\n",
        "\n",
        "#Load the image\n",
        "image = Image.open(image_file)\n",
        "\n",
        "#Plot the Bounding Box\n",
        "# plot_bounding_box(image, annotation_list)"
      ],
      "execution_count": 31,
      "outputs": []
    },
    {
      "cell_type": "markdown",
      "metadata": {
        "id": "AMca2Jz4rFgJ"
      },
      "source": [
        "## Prepare train, validation, test set"
      ]
    },
    {
      "cell_type": "code",
      "metadata": {
        "id": "Um0i7i8O9ZZ8"
      },
      "source": [
        "# Read images and annotations\n",
        "images = [os.path.join(f'{path}/images', x) for x in os.listdir(f'{path}/images')]\n",
        "annotations = [os.path.join(f'{path}/labels', x) for x in os.listdir(f'{path}/labels')]\n",
        "\n",
        "images.sort()\n",
        "annotations.sort()\n",
        "\n",
        "# Split the dataset into train-valid-test splits \n",
        "train_images, val_images, train_annotations, val_annotations = train_test_split(images, annotations, test_size = 0.2, random_state = 1)\n",
        "val_images, test_images, val_annotations, test_annotations = train_test_split(val_images, val_annotations, test_size = 0.5, random_state = 1)"
      ],
      "execution_count": 32,
      "outputs": []
    },
    {
      "cell_type": "markdown",
      "metadata": {
        "id": "dmDHJGJFrMer"
      },
      "source": [
        "### Copy to required folders"
      ]
    },
    {
      "cell_type": "code",
      "metadata": {
        "colab": {
          "base_uri": "https://localhost:8080/"
        },
        "id": "kE42GYD6ikZM",
        "outputId": "67cbca33-30bb-45a1-c30f-57a632788de2"
      },
      "source": [
        "!mkdir images labels images/train images/val images/test labels/train labels/val labels/test\n",
        "\n",
        "#Utility function to move images \n",
        "def move_files_to_folder(list_of_files, destination_folder):\n",
        "    for f in list_of_files:\n",
        "        try:\n",
        "            print(f\"Copying {f} to {destination_folder}\")\n",
        "            shutil.copy(f, destination_folder)\n",
        "        except:\n",
        "            print(f)\n",
        "            assert False\n",
        "\n",
        "# Move the splits into their folders\n",
        "move_files_to_folder(train_images, 'images/train')\n",
        "move_files_to_folder(val_images, 'images/val/')\n",
        "move_files_to_folder(test_images, 'images/test/')\n",
        "move_files_to_folder(train_annotations, 'labels/train/')\n",
        "move_files_to_folder(val_annotations, 'labels/val/')\n",
        "move_files_to_folder(test_annotations, 'labels/test/')\n"
      ],
      "execution_count": 33,
      "outputs": [
        {
          "output_type": "stream",
          "name": "stdout",
          "text": [
            "mkdir: cannot create directory ‘images’: File exists\n",
            "mkdir: cannot create directory ‘labels’: File exists\n",
            "mkdir: cannot create directory ‘images/train’: File exists\n",
            "mkdir: cannot create directory ‘images/val’: File exists\n",
            "mkdir: cannot create directory ‘images/test’: File exists\n",
            "mkdir: cannot create directory ‘labels/train’: File exists\n",
            "mkdir: cannot create directory ‘labels/val’: File exists\n",
            "mkdir: cannot create directory ‘labels/test’: File exists\n",
            "Copying drive/MyDrive/Colab Notebooks/data/images/bd64a25d-WhatsApp_Image_2021-11-09_at_1.28.19_PM.jpeg to images/train\n",
            "Copying drive/MyDrive/Colab Notebooks/data/images/0b569f65-WhatsApp_Image_2021-11-09_at_1.38.50_PM_1.jpeg to images/train\n",
            "Copying drive/MyDrive/Colab Notebooks/data/images/6f5c8103-20211109_102950.jpg to images/train\n",
            "Copying drive/MyDrive/Colab Notebooks/data/images/8abe52e7-20211109_103012.jpg to images/train\n",
            "Copying drive/MyDrive/Colab Notebooks/data/images/6068d95c-x_3.jpeg to images/train\n",
            "Copying drive/MyDrive/Colab Notebooks/data/images/1e017b08-x_6.jpeg to images/train\n",
            "Copying drive/MyDrive/Colab Notebooks/data/images/d1c7da2a-cart03_3.jpeg to images/train\n",
            "Copying drive/MyDrive/Colab Notebooks/data/images/4f5f1bfb-i2_3.jpeg to images/train\n",
            "Copying drive/MyDrive/Colab Notebooks/data/images/a8c389af-cart03_9.jpeg to images/train\n",
            "Copying drive/MyDrive/Colab Notebooks/data/images/ddb6b64d-WhatsApp_Image_2021-11-09_at_11.09.30_AM.jpeg to images/train\n",
            "Copying drive/MyDrive/Colab Notebooks/data/images/47b3b080-20211109_102936.jpg to images/train\n",
            "Copying drive/MyDrive/Colab Notebooks/data/images/7b95a47b-WhatsApp_Image_2021-11-09_at_11.05.24_AM.jpeg to images/train\n",
            "Copying drive/MyDrive/Colab Notebooks/data/images/c64c3491-WhatsApp_Image_2021-11-09_at_11.05.22_AM.jpeg to images/train\n",
            "Copying drive/MyDrive/Colab Notebooks/data/images/7e834a16-IMG_9587.jpg to images/train\n",
            "Copying drive/MyDrive/Colab Notebooks/data/images/c221eda2-20211109_102930.jpg to images/train\n",
            "Copying drive/MyDrive/Colab Notebooks/data/images/974570ee-08.jpeg to images/train\n",
            "Copying drive/MyDrive/Colab Notebooks/data/images/d8a5db5c-WhatsApp_Image_2021-11-09_at_1.27.15_PM.jpeg to images/train\n",
            "Copying drive/MyDrive/Colab Notebooks/data/images/351d1f95-WhatsApp_Image_2021-11-09_at_1.38.50_PM.jpeg to images/train\n",
            "Copying drive/MyDrive/Colab Notebooks/data/images/6376a926-10.jpeg to images/train\n",
            "Copying drive/MyDrive/Colab Notebooks/data/images/ce86e950-x_2.jpeg to images/train\n",
            "Copying drive/MyDrive/Colab Notebooks/data/images/78b3f01b-04.jpeg to images/train\n",
            "Copying drive/MyDrive/Colab Notebooks/data/images/85ad7bdc-WhatsApp_Image_2021-11-09_at_11.05.18_AM.jpeg to images/train\n",
            "Copying drive/MyDrive/Colab Notebooks/data/images/6634aecb-x_1.jpeg to images/train\n",
            "Copying drive/MyDrive/Colab Notebooks/data/images/0cd1725b-WhatsApp_Image_2021-11-09_at_1.27.13_PM.jpeg to images/train\n",
            "Copying drive/MyDrive/Colab Notebooks/data/images/37c474cc-x_4.jpeg to images/train\n",
            "Copying drive/MyDrive/Colab Notebooks/data/images/768fce21-03.jpeg to images/train\n",
            "Copying drive/MyDrive/Colab Notebooks/data/images/70b5c371-cart03_4.jpeg to images/train\n",
            "Copying drive/MyDrive/Colab Notebooks/data/images/d5c91c5f-IMG_9586.jpg to images/train\n",
            "Copying drive/MyDrive/Colab Notebooks/data/images/f338d924-07.jpeg to images/train\n",
            "Copying drive/MyDrive/Colab Notebooks/data/images/4c190d65-09.jpeg to images/train\n",
            "Copying drive/MyDrive/Colab Notebooks/data/images/f6f21de9-i2_2.jpeg to images/train\n",
            "Copying drive/MyDrive/Colab Notebooks/data/images/5e26ed6f-20211109_102942.jpg to images/train\n",
            "Copying drive/MyDrive/Colab Notebooks/data/images/6e2a4d4c-01.jpeg to images/train\n",
            "Copying drive/MyDrive/Colab Notebooks/data/images/12681055-WhatsApp_Image_2021-11-09_at_11.10.26_AM.jpeg to images/train\n",
            "Copying drive/MyDrive/Colab Notebooks/data/images/b0449968-05.jpeg to images/train\n",
            "Copying drive/MyDrive/Colab Notebooks/data/images/140c239d-13.jpeg to images/train\n",
            "Copying drive/MyDrive/Colab Notebooks/data/images/ea0222a2-12.jpeg to images/train\n",
            "Copying drive/MyDrive/Colab Notebooks/data/images/05bd5d81-i2_1.jpeg to images/train\n",
            "Copying drive/MyDrive/Colab Notebooks/data/images/3e37961c-06.jpeg to images/train\n",
            "Copying drive/MyDrive/Colab Notebooks/data/images/02da6948-cart03_8.jpeg to images/train\n",
            "Copying drive/MyDrive/Colab Notebooks/data/images/3a92c73b-14.jpeg to images/train\n",
            "Copying drive/MyDrive/Colab Notebooks/data/images/0d4c79c2-cart03_2.jpeg to images/train\n",
            "Copying drive/MyDrive/Colab Notebooks/data/images/1f3b1d52-cart03_6.jpeg to images/train\n",
            "Copying drive/MyDrive/Colab Notebooks/data/images/1c848d96-2.jpeg to images/train\n",
            "Copying drive/MyDrive/Colab Notebooks/data/images/16bd8d79-cart03_10.jpeg to images/train\n",
            "Copying drive/MyDrive/Colab Notebooks/data/images/3416fc43-WhatsApp_Image_2021-11-09_at_1.38.51_PM.jpeg to images/train\n",
            "Copying drive/MyDrive/Colab Notebooks/data/images/a9a428fa-11.jpeg to images/train\n",
            "Copying drive/MyDrive/Colab Notebooks/data/images/93fc6861-20211109_103003.jpg to images/train\n",
            "Copying drive/MyDrive/Colab Notebooks/data/images/9dfd0f59-1.jpeg to images/val/\n",
            "Copying drive/MyDrive/Colab Notebooks/data/images/86413dee-cart03_5.jpeg to images/val/\n",
            "Copying drive/MyDrive/Colab Notebooks/data/images/d3ef44b2-cart03_1.jpeg to images/val/\n",
            "Copying drive/MyDrive/Colab Notebooks/data/images/700d052a-WhatsApp_Image_2021-11-09_at_1.27.12_PM.jpeg to images/val/\n",
            "Copying drive/MyDrive/Colab Notebooks/data/images/9f9f45ae-i2_5.jpeg to images/val/\n",
            "Copying drive/MyDrive/Colab Notebooks/data/images/ae8d8c84-02.jpeg to images/val/\n",
            "Copying drive/MyDrive/Colab Notebooks/data/images/05c8d0dc-x_5.jpeg to images/test/\n",
            "Copying drive/MyDrive/Colab Notebooks/data/images/c4ce0868-20211109_103006.jpg to images/test/\n",
            "Copying drive/MyDrive/Colab Notebooks/data/images/cb6dbf3c-cart03_7.jpeg to images/test/\n",
            "Copying drive/MyDrive/Colab Notebooks/data/images/692ebdb8-3.jpeg to images/test/\n",
            "Copying drive/MyDrive/Colab Notebooks/data/images/a73c9879-WhatsApp_Image_2021-11-09_at_11.05.20_AM.jpeg to images/test/\n",
            "Copying drive/MyDrive/Colab Notebooks/data/images/81b68b61-i2_4.jpeg to images/test/\n",
            "Copying drive/MyDrive/Colab Notebooks/data/labels/bd64a25d-WhatsApp_Image_2021-11-09_at_1.28.19_PM.txt to labels/train/\n",
            "Copying drive/MyDrive/Colab Notebooks/data/labels/0b569f65-WhatsApp_Image_2021-11-09_at_1.38.50_PM_1.txt to labels/train/\n",
            "Copying drive/MyDrive/Colab Notebooks/data/labels/6f5c8103-20211109_102950.txt to labels/train/\n",
            "Copying drive/MyDrive/Colab Notebooks/data/labels/8abe52e7-20211109_103012.txt to labels/train/\n",
            "Copying drive/MyDrive/Colab Notebooks/data/labels/6068d95c-x_3.txt to labels/train/\n",
            "Copying drive/MyDrive/Colab Notebooks/data/labels/1e017b08-x_6.txt to labels/train/\n",
            "Copying drive/MyDrive/Colab Notebooks/data/labels/d1c7da2a-cart03_3.txt to labels/train/\n",
            "Copying drive/MyDrive/Colab Notebooks/data/labels/4f5f1bfb-i2_3.txt to labels/train/\n",
            "Copying drive/MyDrive/Colab Notebooks/data/labels/a8c389af-cart03_9.txt to labels/train/\n",
            "Copying drive/MyDrive/Colab Notebooks/data/labels/ddb6b64d-WhatsApp_Image_2021-11-09_at_11.09.30_AM.txt to labels/train/\n",
            "Copying drive/MyDrive/Colab Notebooks/data/labels/47b3b080-20211109_102936.txt to labels/train/\n",
            "Copying drive/MyDrive/Colab Notebooks/data/labels/7b95a47b-WhatsApp_Image_2021-11-09_at_11.05.24_AM.txt to labels/train/\n",
            "Copying drive/MyDrive/Colab Notebooks/data/labels/c64c3491-WhatsApp_Image_2021-11-09_at_11.05.22_AM.txt to labels/train/\n",
            "Copying drive/MyDrive/Colab Notebooks/data/labels/7e834a16-IMG_9587.txt to labels/train/\n",
            "Copying drive/MyDrive/Colab Notebooks/data/labels/c221eda2-20211109_102930.txt to labels/train/\n",
            "Copying drive/MyDrive/Colab Notebooks/data/labels/974570ee-08.txt to labels/train/\n",
            "Copying drive/MyDrive/Colab Notebooks/data/labels/d8a5db5c-WhatsApp_Image_2021-11-09_at_1.27.15_PM.txt to labels/train/\n",
            "Copying drive/MyDrive/Colab Notebooks/data/labels/351d1f95-WhatsApp_Image_2021-11-09_at_1.38.50_PM.txt to labels/train/\n",
            "Copying drive/MyDrive/Colab Notebooks/data/labels/6376a926-10.txt to labels/train/\n",
            "Copying drive/MyDrive/Colab Notebooks/data/labels/ce86e950-x_2.txt to labels/train/\n",
            "Copying drive/MyDrive/Colab Notebooks/data/labels/78b3f01b-04.txt to labels/train/\n",
            "Copying drive/MyDrive/Colab Notebooks/data/labels/85ad7bdc-WhatsApp_Image_2021-11-09_at_11.05.18_AM.txt to labels/train/\n",
            "Copying drive/MyDrive/Colab Notebooks/data/labels/6634aecb-x_1.txt to labels/train/\n",
            "Copying drive/MyDrive/Colab Notebooks/data/labels/0cd1725b-WhatsApp_Image_2021-11-09_at_1.27.13_PM.txt to labels/train/\n",
            "Copying drive/MyDrive/Colab Notebooks/data/labels/37c474cc-x_4.txt to labels/train/\n",
            "Copying drive/MyDrive/Colab Notebooks/data/labels/768fce21-03.txt to labels/train/\n",
            "Copying drive/MyDrive/Colab Notebooks/data/labels/70b5c371-cart03_4.txt to labels/train/\n",
            "Copying drive/MyDrive/Colab Notebooks/data/labels/d5c91c5f-IMG_9586.txt to labels/train/\n",
            "Copying drive/MyDrive/Colab Notebooks/data/labels/f338d924-07.txt to labels/train/\n",
            "Copying drive/MyDrive/Colab Notebooks/data/labels/4c190d65-09.txt to labels/train/\n",
            "Copying drive/MyDrive/Colab Notebooks/data/labels/f6f21de9-i2_2.txt to labels/train/\n",
            "Copying drive/MyDrive/Colab Notebooks/data/labels/5e26ed6f-20211109_102942.txt to labels/train/\n",
            "Copying drive/MyDrive/Colab Notebooks/data/labels/6e2a4d4c-01.txt to labels/train/\n",
            "Copying drive/MyDrive/Colab Notebooks/data/labels/12681055-WhatsApp_Image_2021-11-09_at_11.10.26_AM.txt to labels/train/\n",
            "Copying drive/MyDrive/Colab Notebooks/data/labels/b0449968-05.txt to labels/train/\n",
            "Copying drive/MyDrive/Colab Notebooks/data/labels/140c239d-13.txt to labels/train/\n",
            "Copying drive/MyDrive/Colab Notebooks/data/labels/ea0222a2-12.txt to labels/train/\n",
            "Copying drive/MyDrive/Colab Notebooks/data/labels/05bd5d81-i2_1.txt to labels/train/\n",
            "Copying drive/MyDrive/Colab Notebooks/data/labels/3e37961c-06.txt to labels/train/\n",
            "Copying drive/MyDrive/Colab Notebooks/data/labels/02da6948-cart03_8.txt to labels/train/\n",
            "Copying drive/MyDrive/Colab Notebooks/data/labels/3a92c73b-14.txt to labels/train/\n",
            "Copying drive/MyDrive/Colab Notebooks/data/labels/0d4c79c2-cart03_2.txt to labels/train/\n",
            "Copying drive/MyDrive/Colab Notebooks/data/labels/1f3b1d52-cart03_6.txt to labels/train/\n",
            "Copying drive/MyDrive/Colab Notebooks/data/labels/1c848d96-2.txt to labels/train/\n",
            "Copying drive/MyDrive/Colab Notebooks/data/labels/16bd8d79-cart03_10.txt to labels/train/\n",
            "Copying drive/MyDrive/Colab Notebooks/data/labels/3416fc43-WhatsApp_Image_2021-11-09_at_1.38.51_PM.txt to labels/train/\n",
            "Copying drive/MyDrive/Colab Notebooks/data/labels/a9a428fa-11.txt to labels/train/\n",
            "Copying drive/MyDrive/Colab Notebooks/data/labels/93fc6861-20211109_103003.txt to labels/train/\n",
            "Copying drive/MyDrive/Colab Notebooks/data/labels/9dfd0f59-1.txt to labels/val/\n",
            "Copying drive/MyDrive/Colab Notebooks/data/labels/86413dee-cart03_5.txt to labels/val/\n",
            "Copying drive/MyDrive/Colab Notebooks/data/labels/d3ef44b2-cart03_1.txt to labels/val/\n",
            "Copying drive/MyDrive/Colab Notebooks/data/labels/700d052a-WhatsApp_Image_2021-11-09_at_1.27.12_PM.txt to labels/val/\n",
            "Copying drive/MyDrive/Colab Notebooks/data/labels/9f9f45ae-i2_5.txt to labels/val/\n",
            "Copying drive/MyDrive/Colab Notebooks/data/labels/ae8d8c84-02.txt to labels/val/\n",
            "Copying drive/MyDrive/Colab Notebooks/data/labels/05c8d0dc-x_5.txt to labels/test/\n",
            "Copying drive/MyDrive/Colab Notebooks/data/labels/c4ce0868-20211109_103006.txt to labels/test/\n",
            "Copying drive/MyDrive/Colab Notebooks/data/labels/cb6dbf3c-cart03_7.txt to labels/test/\n",
            "Copying drive/MyDrive/Colab Notebooks/data/labels/692ebdb8-3.txt to labels/test/\n",
            "Copying drive/MyDrive/Colab Notebooks/data/labels/a73c9879-WhatsApp_Image_2021-11-09_at_11.05.20_AM.txt to labels/test/\n",
            "Copying drive/MyDrive/Colab Notebooks/data/labels/81b68b61-i2_4.txt to labels/test/\n"
          ]
        }
      ]
    },
    {
      "cell_type": "markdown",
      "metadata": {
        "id": "ec05FkAVryeR"
      },
      "source": [
        "## Prepare the yaml file for yolo"
      ]
    },
    {
      "cell_type": "code",
      "metadata": {
        "id": "r53it6HVmJfe"
      },
      "source": [
        "import yaml\n",
        "\n",
        "scanner_yaml = {\"train\": \"/content/images/train/\", \"val\": \"/content/images/val/\", \"test\": \"/content/images/test/\", \"nc\": len(class_id_to_name_mapping), \"names\": list(class_id_to_name_mapping.values())}\n",
        "\n",
        "with open(r'/content/yolov5/data/scanner.yaml', 'w') as file:\n",
        "    yaml.dump(scanner_yaml, file)"
      ],
      "execution_count": 34,
      "outputs": []
    },
    {
      "cell_type": "markdown",
      "metadata": {
        "id": "ROFUmHytr3pl"
      },
      "source": [
        "# Train"
      ]
    },
    {
      "cell_type": "code",
      "metadata": {
        "colab": {
          "base_uri": "https://localhost:8080/"
        },
        "id": "xJn6LMsEnkeS",
        "outputId": "4e431798-da78-4a74-9849-182713d7cbb2"
      },
      "source": [
        "%cd /content/yolov5\n",
        "!python train.py --img 300 --cfg yolov5s.yaml --hyp hyp.scratch.yaml --batch 32 --epochs 20 --data scanner.yaml --weights yolov5s.pt --workers 24 --name yolo_scanner\n"
      ],
      "execution_count": 19,
      "outputs": [
        {
          "output_type": "stream",
          "name": "stdout",
          "text": [
            "/content/yolov5\n",
            "\u001b[34m\u001b[1mtrain: \u001b[0mweights=yolov5s.pt, cfg=yolov5s.yaml, data=scanner.yaml, hyp=hyp.scratch.yaml, epochs=20, batch_size=32, imgsz=300, rect=False, resume=False, nosave=False, noval=False, noautoanchor=False, evolve=None, bucket=, cache=None, image_weights=False, device=, multi_scale=False, single_cls=False, adam=False, sync_bn=False, workers=24, project=runs/train, name=yolo_scanner, exist_ok=False, quad=False, linear_lr=False, label_smoothing=0.0, patience=100, freeze=0, save_period=-1, local_rank=-1, entity=None, upload_dataset=False, bbox_interval=-1, artifact_alias=latest\n",
            "\u001b[34m\u001b[1mgithub: \u001b[0mup to date with https://github.com/ultralytics/yolov5 ✅\n",
            "YOLOv5 🚀 v6.0-86-g7473f0f torch 1.10.0+cu111 CPU\n",
            "\n",
            "\u001b[34m\u001b[1mhyperparameters: \u001b[0mlr0=0.01, lrf=0.1, momentum=0.937, weight_decay=0.0005, warmup_epochs=3.0, warmup_momentum=0.8, warmup_bias_lr=0.1, box=0.05, cls=0.5, cls_pw=1.0, obj=1.0, obj_pw=1.0, iou_t=0.2, anchor_t=4.0, fl_gamma=0.0, hsv_h=0.015, hsv_s=0.7, hsv_v=0.4, degrees=0.0, translate=0.1, scale=0.5, shear=0.0, perspective=0.0, flipud=0.0, fliplr=0.5, mosaic=1.0, mixup=0.0, copy_paste=0.0\n",
            "\u001b[34m\u001b[1mWeights & Biases: \u001b[0mrun 'pip install wandb' to automatically track and visualize YOLOv5 🚀 runs (RECOMMENDED)\n",
            "\u001b[34m\u001b[1mTensorBoard: \u001b[0mStart with 'tensorboard --logdir runs/train', view at http://localhost:6006/\n",
            "Overriding model.yaml nc=80 with nc=12\n",
            "\n",
            "                 from  n    params  module                                  arguments                     \n",
            "  0                -1  1      3520  models.common.Conv                      [3, 32, 6, 2, 2]              \n",
            "  1                -1  1     18560  models.common.Conv                      [32, 64, 3, 2]                \n",
            "  2                -1  1     18816  models.common.C3                        [64, 64, 1]                   \n",
            "  3                -1  1     73984  models.common.Conv                      [64, 128, 3, 2]               \n",
            "  4                -1  2    115712  models.common.C3                        [128, 128, 2]                 \n",
            "  5                -1  1    295424  models.common.Conv                      [128, 256, 3, 2]              \n",
            "  6                -1  3    625152  models.common.C3                        [256, 256, 3]                 \n",
            "  7                -1  1   1180672  models.common.Conv                      [256, 512, 3, 2]              \n",
            "  8                -1  1   1182720  models.common.C3                        [512, 512, 1]                 \n",
            "  9                -1  1    656896  models.common.SPPF                      [512, 512, 5]                 \n",
            " 10                -1  1    131584  models.common.Conv                      [512, 256, 1, 1]              \n",
            " 11                -1  1         0  torch.nn.modules.upsampling.Upsample    [None, 2, 'nearest']          \n",
            " 12           [-1, 6]  1         0  models.common.Concat                    [1]                           \n",
            " 13                -1  1    361984  models.common.C3                        [512, 256, 1, False]          \n",
            " 14                -1  1     33024  models.common.Conv                      [256, 128, 1, 1]              \n",
            " 15                -1  1         0  torch.nn.modules.upsampling.Upsample    [None, 2, 'nearest']          \n",
            " 16           [-1, 4]  1         0  models.common.Concat                    [1]                           \n",
            " 17                -1  1     90880  models.common.C3                        [256, 128, 1, False]          \n",
            " 18                -1  1    147712  models.common.Conv                      [128, 128, 3, 2]              \n",
            " 19          [-1, 14]  1         0  models.common.Concat                    [1]                           \n",
            " 20                -1  1    296448  models.common.C3                        [256, 256, 1, False]          \n",
            " 21                -1  1    590336  models.common.Conv                      [256, 256, 3, 2]              \n",
            " 22          [-1, 10]  1         0  models.common.Concat                    [1]                           \n",
            " 23                -1  1   1182720  models.common.C3                        [512, 512, 1, False]          \n",
            " 24      [17, 20, 23]  1     45849  models.yolo.Detect                      [12, [[10, 13, 16, 30, 33, 23], [30, 61, 62, 45, 59, 119], [116, 90, 156, 198, 373, 326]], [128, 256, 512]]\n",
            "Model Summary: 270 layers, 7051993 parameters, 7051993 gradients, 15.9 GFLOPs\n",
            "\n",
            "Transferred 342/349 items from yolov5s.pt\n",
            "WARNING: --img-size 300 must be multiple of max stride 32, updating to 320\n",
            "Scaled weight_decay = 0.0005\n",
            "\u001b[34m\u001b[1moptimizer:\u001b[0m SGD with parameter groups 57 weight, 60 weight (no decay), 60 bias\n",
            "\u001b[34m\u001b[1malbumentations: \u001b[0mversion 1.0.3 required by YOLOv5, but version 0.1.12 is currently installed\n",
            "\u001b[34m\u001b[1mtrain: \u001b[0mScanning '/content/labels/train.cache' images and labels... 48 found, 0 missing, 0 empty, 0 corrupted: 100% 48/48 [00:00<?, ?it/s]\n",
            "\u001b[34m\u001b[1mval: \u001b[0mScanning '/content/labels/val.cache' images and labels... 6 found, 0 missing, 0 empty, 0 corrupted: 100% 6/6 [00:00<?, ?it/s]\n",
            "Plotting labels... \n",
            "\n",
            "\u001b[34m\u001b[1mautoanchor: \u001b[0mAnalyzing anchors... anchors/target = 3.31, Best Possible Recall (BPR) = 0.9936\n",
            "Image sizes 320 train, 320 val\n",
            "Using 2 dataloader workers\n",
            "Logging results to \u001b[1mruns/train/yolo_scanner\u001b[0m\n",
            "Starting training for 20 epochs...\n",
            "\n",
            "     Epoch   gpu_mem       box       obj       cls    labels  img_size\n",
            "  0% 0/2 [00:00<?, ?it/s]/usr/local/lib/python3.7/dist-packages/torch/autocast_mode.py:141: UserWarning: User provided device_type of 'cuda', but CUDA is not available. Disabling\n",
            "  warnings.warn('User provided device_type of \\'cuda\\', but CUDA is not available. Disabling')\n",
            "      0/19        0G    0.1361    0.0464    0.0725      1155       320:  50% 1/2 [00:14<00:14, 14.50s/it]/usr/local/lib/python3.7/dist-packages/torch/autocast_mode.py:141: UserWarning: User provided device_type of 'cuda', but CUDA is not available. Disabling\n",
            "  warnings.warn('User provided device_type of \\'cuda\\', but CUDA is not available. Disabling')\n",
            "      0/19        0G    0.1384   0.04475    0.0729       685       320: 100% 2/2 [00:20<00:00, 10.29s/it]\n",
            "               Class     Images     Labels          P          R     mAP@.5 mAP@.5:.95: 100% 1/1 [00:00<00:00,  1.19it/s]\n",
            "                 all          6          0          0          0          0          0\n",
            "\n",
            "     Epoch   gpu_mem       box       obj       cls    labels  img_size\n",
            "  0% 0/2 [00:00<?, ?it/s]/usr/local/lib/python3.7/dist-packages/torch/autocast_mode.py:141: UserWarning: User provided device_type of 'cuda', but CUDA is not available. Disabling\n",
            "  warnings.warn('User provided device_type of \\'cuda\\', but CUDA is not available. Disabling')\n",
            "      1/19        0G    0.1347   0.04407   0.07257      1350       320:  50% 1/2 [00:11<00:11, 11.64s/it]/usr/local/lib/python3.7/dist-packages/torch/autocast_mode.py:141: UserWarning: User provided device_type of 'cuda', but CUDA is not available. Disabling\n",
            "  warnings.warn('User provided device_type of \\'cuda\\', but CUDA is not available. Disabling')\n",
            "      1/19        0G    0.1344   0.04489   0.07188       687       320: 100% 2/2 [00:17<00:00,  8.83s/it]\n",
            "               Class     Images     Labels          P          R     mAP@.5 mAP@.5:.95: 100% 1/1 [00:00<00:00,  1.58it/s]\n",
            "                 all          6          0          0          0          0          0\n",
            "\n",
            "     Epoch   gpu_mem       box       obj       cls    labels  img_size\n",
            "  0% 0/2 [00:00<?, ?it/s]/usr/local/lib/python3.7/dist-packages/torch/autocast_mode.py:141: UserWarning: User provided device_type of 'cuda', but CUDA is not available. Disabling\n",
            "  warnings.warn('User provided device_type of \\'cuda\\', but CUDA is not available. Disabling')\n",
            "      2/19        0G    0.1347   0.03778   0.07163      1078       320:  50% 1/2 [00:11<00:11, 11.48s/it]/usr/local/lib/python3.7/dist-packages/torch/autocast_mode.py:141: UserWarning: User provided device_type of 'cuda', but CUDA is not available. Disabling\n",
            "  warnings.warn('User provided device_type of \\'cuda\\', but CUDA is not available. Disabling')\n",
            "      2/19        0G    0.1336    0.0416    0.0714       630       320: 100% 2/2 [00:17<00:00,  8.62s/it]\n",
            "               Class     Images     Labels          P          R     mAP@.5 mAP@.5:.95: 100% 1/1 [00:00<00:00,  1.60it/s]\n",
            "                 all          6          0          0          0          0          0\n",
            "\n",
            "     Epoch   gpu_mem       box       obj       cls    labels  img_size\n",
            "  0% 0/2 [00:00<?, ?it/s]/usr/local/lib/python3.7/dist-packages/torch/autocast_mode.py:141: UserWarning: User provided device_type of 'cuda', but CUDA is not available. Disabling\n",
            "  warnings.warn('User provided device_type of \\'cuda\\', but CUDA is not available. Disabling')\n",
            "      3/19        0G    0.1339   0.04094   0.06982      1144       320:  50% 1/2 [00:11<00:11, 11.65s/it]/usr/local/lib/python3.7/dist-packages/torch/autocast_mode.py:141: UserWarning: User provided device_type of 'cuda', but CUDA is not available. Disabling\n",
            "  warnings.warn('User provided device_type of \\'cuda\\', but CUDA is not available. Disabling')\n",
            "      3/19        0G     0.134   0.04127   0.07071       600       320: 100% 2/2 [00:17<00:00,  8.68s/it]\n",
            "               Class     Images     Labels          P          R     mAP@.5 mAP@.5:.95: 100% 1/1 [00:00<00:00,  1.58it/s]\n",
            "                 all          6          0          0          0          0          0\n",
            "\n",
            "     Epoch   gpu_mem       box       obj       cls    labels  img_size\n",
            "  0% 0/2 [00:00<?, ?it/s]/usr/local/lib/python3.7/dist-packages/torch/autocast_mode.py:141: UserWarning: User provided device_type of 'cuda', but CUDA is not available. Disabling\n",
            "  warnings.warn('User provided device_type of \\'cuda\\', but CUDA is not available. Disabling')\n",
            "      4/19        0G    0.1309   0.04498   0.06925      1403       320:  50% 1/2 [00:11<00:11, 11.63s/it]/usr/local/lib/python3.7/dist-packages/torch/autocast_mode.py:141: UserWarning: User provided device_type of 'cuda', but CUDA is not available. Disabling\n",
            "  warnings.warn('User provided device_type of \\'cuda\\', but CUDA is not available. Disabling')\n",
            "      4/19        0G    0.1306   0.04647   0.06952       703       320: 100% 2/2 [00:17<00:00,  8.69s/it]\n",
            "               Class     Images     Labels          P          R     mAP@.5 mAP@.5:.95: 100% 1/1 [00:00<00:00,  1.62it/s]\n",
            "                 all          6          0          0          0          0          0\n",
            "\n",
            "     Epoch   gpu_mem       box       obj       cls    labels  img_size\n",
            "  0% 0/2 [00:00<?, ?it/s]/usr/local/lib/python3.7/dist-packages/torch/autocast_mode.py:141: UserWarning: User provided device_type of 'cuda', but CUDA is not available. Disabling\n",
            "  warnings.warn('User provided device_type of \\'cuda\\', but CUDA is not available. Disabling')\n",
            "      5/19        0G      0.13   0.04542   0.06833      1256       320:  50% 1/2 [00:11<00:11, 11.58s/it]/usr/local/lib/python3.7/dist-packages/torch/autocast_mode.py:141: UserWarning: User provided device_type of 'cuda', but CUDA is not available. Disabling\n",
            "  warnings.warn('User provided device_type of \\'cuda\\', but CUDA is not available. Disabling')\n",
            "      5/19        0G    0.1304   0.04369   0.06878       523       320: 100% 2/2 [00:17<00:00,  8.67s/it]\n",
            "               Class     Images     Labels          P          R     mAP@.5 mAP@.5:.95: 100% 1/1 [00:00<00:00,  1.63it/s]\n",
            "                 all          6          0          0          0          0          0\n",
            "\n",
            "     Epoch   gpu_mem       box       obj       cls    labels  img_size\n",
            "  0% 0/2 [00:00<?, ?it/s]/usr/local/lib/python3.7/dist-packages/torch/autocast_mode.py:141: UserWarning: User provided device_type of 'cuda', but CUDA is not available. Disabling\n",
            "  warnings.warn('User provided device_type of \\'cuda\\', but CUDA is not available. Disabling')\n",
            "      6/19        0G    0.1305    0.0384   0.06804      1203       320:  50% 1/2 [00:11<00:11, 11.61s/it]/usr/local/lib/python3.7/dist-packages/torch/autocast_mode.py:141: UserWarning: User provided device_type of 'cuda', but CUDA is not available. Disabling\n",
            "  warnings.warn('User provided device_type of \\'cuda\\', but CUDA is not available. Disabling')\n",
            "      6/19        0G    0.1295   0.04315   0.06789       737       320: 100% 2/2 [00:17<00:00,  8.69s/it]\n",
            "               Class     Images     Labels          P          R     mAP@.5 mAP@.5:.95: 100% 1/1 [00:00<00:00,  1.35it/s]\n",
            "                 all          6          0          0          0          0          0\n",
            "\n",
            "     Epoch   gpu_mem       box       obj       cls    labels  img_size\n",
            "  0% 0/2 [00:00<?, ?it/s]/usr/local/lib/python3.7/dist-packages/torch/autocast_mode.py:141: UserWarning: User provided device_type of 'cuda', but CUDA is not available. Disabling\n",
            "  warnings.warn('User provided device_type of \\'cuda\\', but CUDA is not available. Disabling')\n",
            "      7/19        0G    0.1292   0.04305   0.06875      1258       320:  50% 1/2 [00:11<00:11, 11.79s/it]/usr/local/lib/python3.7/dist-packages/torch/autocast_mode.py:141: UserWarning: User provided device_type of 'cuda', but CUDA is not available. Disabling\n",
            "  warnings.warn('User provided device_type of \\'cuda\\', but CUDA is not available. Disabling')\n",
            "      7/19        0G    0.1292   0.04879   0.06759       637       320: 100% 2/2 [00:17<00:00,  8.76s/it]\n",
            "               Class     Images     Labels          P          R     mAP@.5 mAP@.5:.95: 100% 1/1 [00:00<00:00,  1.59it/s]\n",
            "                 all          6          0          0          0          0          0\n",
            "\n",
            "     Epoch   gpu_mem       box       obj       cls    labels  img_size\n",
            "  0% 0/2 [00:00<?, ?it/s]/usr/local/lib/python3.7/dist-packages/torch/autocast_mode.py:141: UserWarning: User provided device_type of 'cuda', but CUDA is not available. Disabling\n",
            "  warnings.warn('User provided device_type of \\'cuda\\', but CUDA is not available. Disabling')\n",
            "      8/19        0G    0.1277   0.04279   0.06547      1149       320:  50% 1/2 [00:11<00:11, 11.58s/it]/usr/local/lib/python3.7/dist-packages/torch/autocast_mode.py:141: UserWarning: User provided device_type of 'cuda', but CUDA is not available. Disabling\n",
            "  warnings.warn('User provided device_type of \\'cuda\\', but CUDA is not available. Disabling')\n",
            "      8/19        0G     0.128   0.04264    0.0649       774       320: 100% 2/2 [00:17<00:00,  8.67s/it]\n",
            "               Class     Images     Labels          P          R     mAP@.5 mAP@.5:.95: 100% 1/1 [00:00<00:00,  1.61it/s]\n",
            "                 all          6          0          0          0          0          0\n",
            "\n",
            "     Epoch   gpu_mem       box       obj       cls    labels  img_size\n",
            "  0% 0/2 [00:00<?, ?it/s]/usr/local/lib/python3.7/dist-packages/torch/autocast_mode.py:141: UserWarning: User provided device_type of 'cuda', but CUDA is not available. Disabling\n",
            "  warnings.warn('User provided device_type of \\'cuda\\', but CUDA is not available. Disabling')\n",
            "      9/19        0G    0.1298   0.04207   0.06527      1027       320:  50% 1/2 [00:11<00:11, 11.63s/it]/usr/local/lib/python3.7/dist-packages/torch/autocast_mode.py:141: UserWarning: User provided device_type of 'cuda', but CUDA is not available. Disabling\n",
            "  warnings.warn('User provided device_type of \\'cuda\\', but CUDA is not available. Disabling')\n",
            "      9/19        0G    0.1312   0.03891   0.06439       682       320: 100% 2/2 [00:17<00:00,  8.69s/it]\n",
            "               Class     Images     Labels          P          R     mAP@.5 mAP@.5:.95: 100% 1/1 [00:00<00:00,  1.59it/s]\n",
            "                 all          6          0          0          0          0          0\n",
            "\n",
            "     Epoch   gpu_mem       box       obj       cls    labels  img_size\n",
            "  0% 0/2 [00:00<?, ?it/s]/usr/local/lib/python3.7/dist-packages/torch/autocast_mode.py:141: UserWarning: User provided device_type of 'cuda', but CUDA is not available. Disabling\n",
            "  warnings.warn('User provided device_type of \\'cuda\\', but CUDA is not available. Disabling')\n",
            "     10/19        0G    0.1317   0.04448   0.06374      1518       320:  50% 1/2 [00:11<00:11, 11.61s/it]/usr/local/lib/python3.7/dist-packages/torch/autocast_mode.py:141: UserWarning: User provided device_type of 'cuda', but CUDA is not available. Disabling\n",
            "  warnings.warn('User provided device_type of \\'cuda\\', but CUDA is not available. Disabling')\n",
            "     10/19        0G     0.132   0.04301   0.06387       649       320: 100% 2/2 [00:17<00:00,  8.67s/it]\n",
            "               Class     Images     Labels          P          R     mAP@.5 mAP@.5:.95: 100% 1/1 [00:00<00:00,  1.62it/s]\n",
            "                 all          6          0          0          0          0          0\n",
            "\n",
            "     Epoch   gpu_mem       box       obj       cls    labels  img_size\n",
            "  0% 0/2 [00:00<?, ?it/s]/usr/local/lib/python3.7/dist-packages/torch/autocast_mode.py:141: UserWarning: User provided device_type of 'cuda', but CUDA is not available. Disabling\n",
            "  warnings.warn('User provided device_type of \\'cuda\\', but CUDA is not available. Disabling')\n",
            "     11/19        0G    0.1288   0.04302   0.06333      1285       320:  50% 1/2 [00:11<00:11, 11.53s/it]/usr/local/lib/python3.7/dist-packages/torch/autocast_mode.py:141: UserWarning: User provided device_type of 'cuda', but CUDA is not available. Disabling\n",
            "  warnings.warn('User provided device_type of \\'cuda\\', but CUDA is not available. Disabling')\n",
            "     11/19        0G    0.1302    0.0423   0.06377       659       320: 100% 2/2 [00:17<00:00,  8.63s/it]\n",
            "               Class     Images     Labels          P          R     mAP@.5 mAP@.5:.95: 100% 1/1 [00:00<00:00,  1.61it/s]\n",
            "                 all          6        138   0.000768    0.00362     0.0004      4e-05\n",
            "\n",
            "     Epoch   gpu_mem       box       obj       cls    labels  img_size\n",
            "  0% 0/2 [00:00<?, ?it/s]/usr/local/lib/python3.7/dist-packages/torch/autocast_mode.py:141: UserWarning: User provided device_type of 'cuda', but CUDA is not available. Disabling\n",
            "  warnings.warn('User provided device_type of \\'cuda\\', but CUDA is not available. Disabling')\n",
            "     12/19        0G    0.1277    0.0429    0.0628      1007       320:  50% 1/2 [00:11<00:11, 11.53s/it]/usr/local/lib/python3.7/dist-packages/torch/autocast_mode.py:141: UserWarning: User provided device_type of 'cuda', but CUDA is not available. Disabling\n",
            "  warnings.warn('User provided device_type of \\'cuda\\', but CUDA is not available. Disabling')\n",
            "     12/19        0G    0.1267   0.04303   0.06171       546       320: 100% 2/2 [00:17<00:00,  8.63s/it]\n",
            "               Class     Images     Labels          P          R     mAP@.5 mAP@.5:.95: 100% 1/1 [00:00<00:00,  1.61it/s]\n",
            "                 all          6        138    0.00123    0.00362   0.000376   3.76e-05\n",
            "\n",
            "     Epoch   gpu_mem       box       obj       cls    labels  img_size\n",
            "  0% 0/2 [00:00<?, ?it/s]/usr/local/lib/python3.7/dist-packages/torch/autocast_mode.py:141: UserWarning: User provided device_type of 'cuda', but CUDA is not available. Disabling\n",
            "  warnings.warn('User provided device_type of \\'cuda\\', but CUDA is not available. Disabling')\n",
            "     13/19        0G    0.1268   0.04499   0.06271      1026       320:  50% 1/2 [00:11<00:11, 11.61s/it]/usr/local/lib/python3.7/dist-packages/torch/autocast_mode.py:141: UserWarning: User provided device_type of 'cuda', but CUDA is not available. Disabling\n",
            "  warnings.warn('User provided device_type of \\'cuda\\', but CUDA is not available. Disabling')\n",
            "     13/19        0G    0.1269   0.04981   0.06272       624       320: 100% 2/2 [00:17<00:00,  8.64s/it]\n",
            "               Class     Images     Labels          P          R     mAP@.5 mAP@.5:.95: 100% 1/1 [00:00<00:00,  1.58it/s]\n",
            "                 all          6        138    0.00107    0.00362   0.000461   4.61e-05\n",
            "\n",
            "     Epoch   gpu_mem       box       obj       cls    labels  img_size\n",
            "  0% 0/2 [00:00<?, ?it/s]/usr/local/lib/python3.7/dist-packages/torch/autocast_mode.py:141: UserWarning: User provided device_type of 'cuda', but CUDA is not available. Disabling\n",
            "  warnings.warn('User provided device_type of \\'cuda\\', but CUDA is not available. Disabling')\n",
            "     14/19        0G    0.1259    0.0467   0.06129      1087       320:  50% 1/2 [00:11<00:11, 11.48s/it]/usr/local/lib/python3.7/dist-packages/torch/autocast_mode.py:141: UserWarning: User provided device_type of 'cuda', but CUDA is not available. Disabling\n",
            "  warnings.warn('User provided device_type of \\'cuda\\', but CUDA is not available. Disabling')\n",
            "     14/19        0G    0.1279   0.04648   0.06119       561       320: 100% 2/2 [00:17<00:00,  8.60s/it]\n",
            "               Class     Images     Labels          P          R     mAP@.5 mAP@.5:.95: 100% 1/1 [00:00<00:00,  1.56it/s]\n",
            "                 all          6        138   0.000984    0.00362    0.00042    4.2e-05\n",
            "\n",
            "     Epoch   gpu_mem       box       obj       cls    labels  img_size\n",
            "  0% 0/2 [00:00<?, ?it/s]/usr/local/lib/python3.7/dist-packages/torch/autocast_mode.py:141: UserWarning: User provided device_type of 'cuda', but CUDA is not available. Disabling\n",
            "  warnings.warn('User provided device_type of \\'cuda\\', but CUDA is not available. Disabling')\n",
            "     15/19        0G    0.1277   0.04948   0.06133      1265       320:  50% 1/2 [00:11<00:11, 11.51s/it]/usr/local/lib/python3.7/dist-packages/torch/autocast_mode.py:141: UserWarning: User provided device_type of 'cuda', but CUDA is not available. Disabling\n",
            "  warnings.warn('User provided device_type of \\'cuda\\', but CUDA is not available. Disabling')\n",
            "     15/19        0G    0.1281   0.04579   0.06142       501       320: 100% 2/2 [00:17<00:00,  8.61s/it]\n",
            "               Class     Images     Labels          P          R     mAP@.5 mAP@.5:.95: 100% 1/1 [00:00<00:00,  1.55it/s]\n",
            "                 all          6        138    0.00181    0.00725   0.000753   7.53e-05\n",
            "\n",
            "     Epoch   gpu_mem       box       obj       cls    labels  img_size\n",
            "  0% 0/2 [00:00<?, ?it/s]/usr/local/lib/python3.7/dist-packages/torch/autocast_mode.py:141: UserWarning: User provided device_type of 'cuda', but CUDA is not available. Disabling\n",
            "  warnings.warn('User provided device_type of \\'cuda\\', but CUDA is not available. Disabling')\n",
            "     16/19        0G    0.1274   0.04561   0.06123      1057       320:  50% 1/2 [00:11<00:11, 11.62s/it]/usr/local/lib/python3.7/dist-packages/torch/autocast_mode.py:141: UserWarning: User provided device_type of 'cuda', but CUDA is not available. Disabling\n",
            "  warnings.warn('User provided device_type of \\'cuda\\', but CUDA is not available. Disabling')\n",
            "     16/19        0G    0.1289   0.04608   0.06073       779       320: 100% 2/2 [00:17<00:00,  8.67s/it]\n",
            "               Class     Images     Labels          P          R     mAP@.5 mAP@.5:.95: 100% 1/1 [00:00<00:00,  1.55it/s]\n",
            "                 all          6        138   0.000871    0.00362   0.000401   4.01e-05\n",
            "\n",
            "     Epoch   gpu_mem       box       obj       cls    labels  img_size\n",
            "  0% 0/2 [00:00<?, ?it/s]/usr/local/lib/python3.7/dist-packages/torch/autocast_mode.py:141: UserWarning: User provided device_type of 'cuda', but CUDA is not available. Disabling\n",
            "  warnings.warn('User provided device_type of \\'cuda\\', but CUDA is not available. Disabling')\n",
            "     17/19        0G    0.1278   0.04631   0.06003      1385       320:  50% 1/2 [00:11<00:11, 11.51s/it]/usr/local/lib/python3.7/dist-packages/torch/autocast_mode.py:141: UserWarning: User provided device_type of 'cuda', but CUDA is not available. Disabling\n",
            "  warnings.warn('User provided device_type of \\'cuda\\', but CUDA is not available. Disabling')\n",
            "     17/19        0G    0.1277    0.0484   0.06003       735       320: 100% 2/2 [00:17<00:00,  8.62s/it]\n",
            "               Class     Images     Labels          P          R     mAP@.5 mAP@.5:.95: 100% 1/1 [00:00<00:00,  1.55it/s]\n",
            "                 all          6        138   0.000828    0.00362   0.000391   3.91e-05\n",
            "\n",
            "     Epoch   gpu_mem       box       obj       cls    labels  img_size\n",
            "  0% 0/2 [00:00<?, ?it/s]/usr/local/lib/python3.7/dist-packages/torch/autocast_mode.py:141: UserWarning: User provided device_type of 'cuda', but CUDA is not available. Disabling\n",
            "  warnings.warn('User provided device_type of \\'cuda\\', but CUDA is not available. Disabling')\n",
            "     18/19        0G    0.1267   0.04428   0.05898      1296       320:  50% 1/2 [00:11<00:11, 11.49s/it]/usr/local/lib/python3.7/dist-packages/torch/autocast_mode.py:141: UserWarning: User provided device_type of 'cuda', but CUDA is not available. Disabling\n",
            "  warnings.warn('User provided device_type of \\'cuda\\', but CUDA is not available. Disabling')\n",
            "     18/19        0G    0.1252   0.04432   0.05855       563       320: 100% 2/2 [00:17<00:00,  8.62s/it]\n",
            "               Class     Images     Labels          P          R     mAP@.5 mAP@.5:.95: 100% 1/1 [00:00<00:00,  1.53it/s]\n",
            "                 all          6        138    0.00162    0.00725   0.000701   9.69e-05\n",
            "\n",
            "     Epoch   gpu_mem       box       obj       cls    labels  img_size\n",
            "  0% 0/2 [00:00<?, ?it/s]/usr/local/lib/python3.7/dist-packages/torch/autocast_mode.py:141: UserWarning: User provided device_type of 'cuda', but CUDA is not available. Disabling\n",
            "  warnings.warn('User provided device_type of \\'cuda\\', but CUDA is not available. Disabling')\n",
            "     19/19        0G    0.1269   0.04537   0.06224      1096       320:  50% 1/2 [00:11<00:11, 11.67s/it]/usr/local/lib/python3.7/dist-packages/torch/autocast_mode.py:141: UserWarning: User provided device_type of 'cuda', but CUDA is not available. Disabling\n",
            "  warnings.warn('User provided device_type of \\'cuda\\', but CUDA is not available. Disabling')\n",
            "     19/19        0G    0.1259   0.04786   0.06009       740       320: 100% 2/2 [00:17<00:00,  8.71s/it]\n",
            "               Class     Images     Labels          P          R     mAP@.5 mAP@.5:.95: 100% 1/1 [00:00<00:00,  1.52it/s]\n",
            "                 all          6        138    0.00169     0.0211   0.000688   9.46e-05\n",
            "\n",
            "20 epochs completed in 0.103 hours.\n",
            "Optimizer stripped from runs/train/yolo_scanner/weights/last.pt, 14.3MB\n",
            "Optimizer stripped from runs/train/yolo_scanner/weights/best.pt, 14.3MB\n",
            "\n",
            "Validating runs/train/yolo_scanner/weights/best.pt...\n",
            "Fusing layers... \n",
            "Model Summary: 213 layers, 7042489 parameters, 0 gradients, 15.9 GFLOPs\n",
            "               Class     Images     Labels          P          R     mAP@.5 mAP@.5:.95: 100% 1/1 [00:00<00:00,  1.24it/s]\n",
            "                 all          6        138    0.00162    0.00725   0.000694   9.59e-05\n",
            "                   5          6          8          0          0          0          0\n",
            "                   0          6         23     0.0195      0.087    0.00719    0.00104\n",
            "                   2          6         15          0          0          0          0\n",
            "                   9          6         16          0          0          0          0\n",
            "                   1          6         21          0          0          0          0\n",
            "                   3          6          8          0          0          0          0\n",
            "                   7          6          6          0          0          0          0\n",
            "                   6          6         11          0          0          0          0\n",
            "                   4          6          9          0          0          0          0\n",
            "                   8          6          9          0          0          0          0\n",
            "                 exp          6          6          0          0          0          0\n",
            "                 pan          6          6          0          0    0.00114   0.000114\n",
            "Results saved to \u001b[1mruns/train/yolo_scanner\u001b[0m\n"
          ]
        }
      ]
    },
    {
      "cell_type": "markdown",
      "metadata": {
        "id": "I8T8tL11sYG_"
      },
      "source": [
        "# Evaluate"
      ]
    },
    {
      "cell_type": "code",
      "metadata": {
        "colab": {
          "base_uri": "https://localhost:8080/"
        },
        "id": "xMZyDTy6o-2r",
        "outputId": "0892e4ca-353b-4f05-d1d1-70462d15098a"
      },
      "source": [
        "!python detect.py --source /content/images/test/ --weights runs/train/yolo_scanner/weights/best.pt --conf 0.25 --name yolo_scanner\n"
      ],
      "execution_count": 20,
      "outputs": [
        {
          "output_type": "stream",
          "name": "stdout",
          "text": [
            "\u001b[34m\u001b[1mdetect: \u001b[0mweights=['runs/train/yolo_scanner/weights/best.pt'], source=/content/images/test/, imgsz=[640, 640], conf_thres=0.25, iou_thres=0.45, max_det=1000, device=, view_img=False, save_txt=False, save_conf=False, save_crop=False, nosave=False, classes=None, agnostic_nms=False, augment=False, visualize=False, update=False, project=runs/detect, name=yolo_scanner, exist_ok=False, line_thickness=3, hide_labels=False, hide_conf=False, half=False, dnn=False\n",
            "YOLOv5 🚀 v6.0-86-g7473f0f torch 1.10.0+cu111 CPU\n",
            "\n",
            "Fusing layers... \n",
            "Model Summary: 213 layers, 7042489 parameters, 0 gradients, 15.9 GFLOPs\n",
            "image 1/6 /content/images/test/05c8d0dc-x_5.jpeg: 448x640 Done. (0.277s)\n",
            "image 2/6 /content/images/test/692ebdb8-3.jpeg: 448x640 Done. (0.280s)\n",
            "image 3/6 /content/images/test/81b68b61-i2_4.jpeg: 448x640 Done. (0.255s)\n",
            "image 4/6 /content/images/test/a73c9879-WhatsApp_Image_2021-11-09_at_11.05.20_AM.jpeg: 448x640 Done. (0.257s)\n",
            "image 5/6 /content/images/test/c4ce0868-20211109_103006.jpg: 448x640 Done. (0.261s)\n",
            "image 6/6 /content/images/test/cb6dbf3c-cart03_7.jpeg: 448x640 Done. (0.274s)\n",
            "Speed: 1.8ms pre-process, 267.4ms inference, 0.3ms NMS per image at shape (1, 3, 640, 640)\n",
            "Results saved to \u001b[1mruns/detect/yolo_scanner\u001b[0m\n"
          ]
        }
      ]
    },
    {
      "cell_type": "markdown",
      "metadata": {
        "id": "4wiNkyc0sbex"
      },
      "source": [
        "## Plot randomly"
      ]
    },
    {
      "cell_type": "code",
      "metadata": {
        "colab": {
          "base_uri": "https://localhost:8080/",
          "height": 232
        },
        "id": "0a36IriCseNR",
        "outputId": "2c33bb73-9224-41e0-aa2e-6541ec220397"
      },
      "source": [
        "detections_dir = \"runs/detect/yolo_scanner/\"\n",
        "detection_images = [os.path.join(detections_dir, x) for x in os.listdir(detections_dir)]\n",
        "\n",
        "random_detection_image = Image.open(random.choice(detection_images))\n",
        "# plt.imshow(np.array(random_detection_image))"
      ],
      "execution_count": 35,
      "outputs": [
        {
          "output_type": "error",
          "ename": "FileNotFoundError",
          "evalue": "ignored",
          "traceback": [
            "\u001b[0;31m---------------------------------------------------------------------------\u001b[0m",
            "\u001b[0;31mFileNotFoundError\u001b[0m                         Traceback (most recent call last)",
            "\u001b[0;32m<ipython-input-35-755a2fed69d1>\u001b[0m in \u001b[0;36m<module>\u001b[0;34m()\u001b[0m\n\u001b[1;32m      1\u001b[0m \u001b[0mdetections_dir\u001b[0m \u001b[0;34m=\u001b[0m \u001b[0;34m\"runs/detect/yolo_scanner/\"\u001b[0m\u001b[0;34m\u001b[0m\u001b[0;34m\u001b[0m\u001b[0m\n\u001b[0;32m----> 2\u001b[0;31m \u001b[0mdetection_images\u001b[0m \u001b[0;34m=\u001b[0m \u001b[0;34m[\u001b[0m\u001b[0mos\u001b[0m\u001b[0;34m.\u001b[0m\u001b[0mpath\u001b[0m\u001b[0;34m.\u001b[0m\u001b[0mjoin\u001b[0m\u001b[0;34m(\u001b[0m\u001b[0mdetections_dir\u001b[0m\u001b[0;34m,\u001b[0m \u001b[0mx\u001b[0m\u001b[0;34m)\u001b[0m \u001b[0;32mfor\u001b[0m \u001b[0mx\u001b[0m \u001b[0;32min\u001b[0m \u001b[0mos\u001b[0m\u001b[0;34m.\u001b[0m\u001b[0mlistdir\u001b[0m\u001b[0;34m(\u001b[0m\u001b[0mdetections_dir\u001b[0m\u001b[0;34m)\u001b[0m\u001b[0;34m]\u001b[0m\u001b[0;34m\u001b[0m\u001b[0;34m\u001b[0m\u001b[0m\n\u001b[0m\u001b[1;32m      3\u001b[0m \u001b[0;34m\u001b[0m\u001b[0m\n\u001b[1;32m      4\u001b[0m \u001b[0mrandom_detection_image\u001b[0m \u001b[0;34m=\u001b[0m \u001b[0mImage\u001b[0m\u001b[0;34m.\u001b[0m\u001b[0mopen\u001b[0m\u001b[0;34m(\u001b[0m\u001b[0mrandom\u001b[0m\u001b[0;34m.\u001b[0m\u001b[0mchoice\u001b[0m\u001b[0;34m(\u001b[0m\u001b[0mdetection_images\u001b[0m\u001b[0;34m)\u001b[0m\u001b[0;34m)\u001b[0m\u001b[0;34m\u001b[0m\u001b[0;34m\u001b[0m\u001b[0m\n\u001b[1;32m      5\u001b[0m \u001b[0;31m# plt.imshow(np.array(random_detection_image))\u001b[0m\u001b[0;34m\u001b[0m\u001b[0;34m\u001b[0m\u001b[0;34m\u001b[0m\u001b[0m\n",
            "\u001b[0;31mFileNotFoundError\u001b[0m: [Errno 2] No such file or directory: 'runs/detect/yolo_scanner/'"
          ]
        }
      ]
    },
    {
      "cell_type": "markdown",
      "metadata": {
        "id": "uelncVNBs-nO"
      },
      "source": [
        "## Compute mAP (mean average percision)"
      ]
    },
    {
      "cell_type": "code",
      "metadata": {
        "colab": {
          "base_uri": "https://localhost:8080/"
        },
        "id": "2Ig4Kb63tD7T",
        "outputId": "428fc5c3-02b7-4e0d-e98e-097a30b347a1"
      },
      "source": [
        "!python val.py --weights runs/train/yolo_scanner/weights/best.pt --data scanner.yaml --task test --name yolo_det\n"
      ],
      "execution_count": 24,
      "outputs": [
        {
          "output_type": "stream",
          "name": "stdout",
          "text": [
            "\u001b[34m\u001b[1mval: \u001b[0mdata=/content/yolov5/data/scanner.yaml, weights=['runs/train/yolo_scanner/weights/best.pt'], batch_size=32, imgsz=640, conf_thres=0.001, iou_thres=0.6, task=test, device=, single_cls=False, augment=False, verbose=False, save_txt=False, save_hybrid=False, save_conf=False, save_json=False, project=runs/val, name=yolo_det, exist_ok=False, half=False, dnn=False\n",
            "YOLOv5 🚀 v6.0-86-g7473f0f torch 1.10.0+cu111 CPU\n",
            "\n",
            "Fusing layers... \n",
            "Model Summary: 213 layers, 7042489 parameters, 0 gradients, 15.9 GFLOPs\n",
            "\u001b[34m\u001b[1mtest: \u001b[0mScanning '/content/labels/test' images and labels...6 found, 0 missing, 0 empty, 0 corrupted: 100% 6/6 [00:00<00:00, 236.59it/s]\n",
            "\u001b[34m\u001b[1mtest: \u001b[0mNew cache created: /content/labels/test.cache\n",
            "               Class     Images     Labels          P          R     mAP@.5 mAP@.5:.95: 100% 1/1 [00:02<00:00,  2.62s/it]\n",
            "                 all          6        138      0.261     0.0231    0.00195   0.000578\n",
            "                   5          6         11          0          0          0          0\n",
            "                   0          6         18      0.125      0.111     0.0225    0.00676\n",
            "                   2          6         15          1          0          0          0\n",
            "                   9          6         11          1          0          0          0\n",
            "                   1          6         25          0          0          0          0\n",
            "                   3          6         11          0          0          0          0\n",
            "                   7          6          2          0          0          0          0\n",
            "                   6          6          6          1          0          0          0\n",
            "                   4          6         15          0          0          0          0\n",
            "                   8          6         12          0          0          0          0\n",
            "                 exp          6          6          0          0          0          0\n",
            "                 pan          6          6    0.00298      0.167   0.000873   0.000175\n",
            "Speed: 5.8ms pre-process, 289.8ms inference, 94.9ms NMS per image at shape (32, 3, 640, 640)\n",
            "Results saved to \u001b[1mruns/val/yolo_det\u001b[0m\n"
          ]
        }
      ]
    }
  ]
}