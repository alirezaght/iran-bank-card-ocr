{
  "nbformat": 4,
  "nbformat_minor": 0,
  "metadata": {
    "colab": {
      "name": "model.ipynb",
      "provenance": [],
      "include_colab_link": true
    },
    "kernelspec": {
      "name": "python3",
      "display_name": "Python 3"
    },
    "language_info": {
      "name": "python"
    },
    "accelerator": "GPU"
  },
  "cells": [
    {
      "cell_type": "markdown",
      "metadata": {
        "id": "view-in-github",
        "colab_type": "text"
      },
      "source": [
        "<a href=\"https://colab.research.google.com/github/alirezaght/iran-bank-card-ocr/blob/main/model.ipynb\" target=\"_parent\"><img src=\"https://colab.research.google.com/assets/colab-badge.svg\" alt=\"Open In Colab\"/></a>"
      ]
    },
    {
      "cell_type": "code",
      "metadata": {
        "colab": {
          "base_uri": "https://localhost:8080/"
        },
        "id": "VKPxmqIX6IUi",
        "outputId": "f251f338-d64b-439b-8522-dba3731b3223"
      },
      "source": [
        "from google.colab import drive\n",
        "drive.mount('/content/drive')"
      ],
      "execution_count": 1,
      "outputs": [
        {
          "output_type": "stream",
          "name": "stdout",
          "text": [
            "Mounted at /content/drive\n"
          ]
        }
      ]
    },
    {
      "cell_type": "markdown",
      "metadata": {
        "id": "rfI_Ympm7Iq0"
      },
      "source": [
        "# Prepare data"
      ]
    },
    {
      "cell_type": "markdown",
      "metadata": {
        "id": "KtxIauOp-WsI"
      },
      "source": [
        "Check the graphic driver"
      ]
    },
    {
      "cell_type": "code",
      "metadata": {
        "colab": {
          "base_uri": "https://localhost:8080/"
        },
        "id": "gR3wb732-I8l",
        "outputId": "f672eead-d45a-4ec7-eff4-8f6e01b28564"
      },
      "source": [
        "!nvidia-smi"
      ],
      "execution_count": 2,
      "outputs": [
        {
          "output_type": "stream",
          "name": "stdout",
          "text": [
            "Fri Nov 12 14:11:53 2021       \n",
            "+-----------------------------------------------------------------------------+\n",
            "| NVIDIA-SMI 495.44       Driver Version: 460.32.03    CUDA Version: 11.2     |\n",
            "|-------------------------------+----------------------+----------------------+\n",
            "| GPU  Name        Persistence-M| Bus-Id        Disp.A | Volatile Uncorr. ECC |\n",
            "| Fan  Temp  Perf  Pwr:Usage/Cap|         Memory-Usage | GPU-Util  Compute M. |\n",
            "|                               |                      |               MIG M. |\n",
            "|===============================+======================+======================|\n",
            "|   0  Tesla K80           Off  | 00000000:00:04.0 Off |                    0 |\n",
            "| N/A   57C    P8    31W / 149W |      0MiB / 11441MiB |      0%      Default |\n",
            "|                               |                      |                  N/A |\n",
            "+-------------------------------+----------------------+----------------------+\n",
            "                                                                               \n",
            "+-----------------------------------------------------------------------------+\n",
            "| Processes:                                                                  |\n",
            "|  GPU   GI   CI        PID   Type   Process name                  GPU Memory |\n",
            "|        ID   ID                                                   Usage      |\n",
            "|=============================================================================|\n",
            "|  No running processes found                                                 |\n",
            "+-----------------------------------------------------------------------------+\n"
          ]
        }
      ]
    },
    {
      "cell_type": "markdown",
      "metadata": {
        "id": "2uWEOjHU9OWG"
      },
      "source": [
        "## prepare labels"
      ]
    },
    {
      "cell_type": "code",
      "metadata": {
        "colab": {
          "base_uri": "https://localhost:8080/"
        },
        "id": "1QanFuB07N2q",
        "outputId": "d4ed3817-e57e-4063-a51e-f12f55b93f67"
      },
      "source": [
        "import json\n",
        "labels = {}\n",
        "path = 'drive/MyDrive/Colab Notebooks/data'\n",
        "def prepare_labels():\n",
        "  notes = open(f'{path}/notes.json')\n",
        "  categories = json.load(notes)['categories']\n",
        "  for item in categories:\n",
        "    labels[item['id']] = item['name']\n",
        "prepare_labels()\n",
        "print(labels)\n",
        "\n"
      ],
      "execution_count": 3,
      "outputs": [
        {
          "output_type": "stream",
          "name": "stdout",
          "text": [
            "{0: '5', 1: '0', 2: '2', 3: '9', 4: '1', 5: '3', 6: '7', 7: '6', 8: '4', 9: '8', 10: 'exp', 11: 'pan'}\n"
          ]
        }
      ]
    },
    {
      "cell_type": "markdown",
      "metadata": {
        "id": "Yb7vWWmX9VvM"
      },
      "source": [
        "## prepare data"
      ]
    },
    {
      "cell_type": "code",
      "metadata": {
        "colab": {
          "base_uri": "https://localhost:8080/"
        },
        "id": "Um0i7i8O9ZZ8",
        "outputId": "39c1190f-8959-4a2a-b0b3-d3cf5d3ae4a3"
      },
      "source": [
        "import os\n",
        "import PIL\n",
        "import numpy as np\n",
        "image_width = 300\n",
        "image_height = 200\n",
        "pixel_width = 10\n",
        "pixel_height = 15\n",
        "x_data = []\n",
        "y_data = []\n",
        "\n",
        "def get_category(cat):\n",
        "  label = labels[cat]\n",
        "  return [int(label == '0'), int(label == '1'), int(label == '2'), int(label == '3'), int(label == '4'), int(label == '5'), int(label == '6'), int(label == '7'), int(label == '8'), int(label == '9'), int(label == 'pan'), int(label == 'exp')]\n",
        "\n",
        "\n",
        "def prepare_data():\n",
        "  list_labels = os.listdir(f'{path}/labels/')\n",
        "  list_images = {x.split('.')[0]:x for x in os.listdir(f'{path}/images')}  \n",
        "  for l in list_labels:\n",
        "    image_name = l.split('.')[0]    \n",
        "    if image_name in list_images:\n",
        "      x = np.array(PIL.Image.open(f'{path}/images/{list_images[image_name]}'))      \n",
        "      x_data.append(x)\n",
        "      y = np.zeros((image_height // pixel_height, image_width // pixel_width, 17))\n",
        "      with open(f'{path}/labels/{l}') as file:\n",
        "        lines = file.read().split('\\n')\n",
        "        for line in lines:\n",
        "          if line == '':\n",
        "            continue\n",
        "          columns = line.split(' ')          \n",
        "          category = int(columns[0])\n",
        "          center_x = float(columns[1])\n",
        "          center_y = float(columns[2])\n",
        "          width = float(columns[3])\n",
        "          height = float(columns[4])\n",
        "          index_x = int(center_x * image_width // pixel_width)\n",
        "          index_y = int(center_y * image_height // pixel_height)\n",
        "          result = [1, center_x, center_y, width, height]\n",
        "          result.extend(get_category(category))\n",
        "          y[index_y][index_x] = result\n",
        "        y_data.append(y)\n",
        "\n",
        "prepare_data()\n",
        "print(np.array(x_data).shape)\n",
        "print(np.array(y_data).shape)"
      ],
      "execution_count": 17,
      "outputs": [
        {
          "output_type": "stream",
          "name": "stdout",
          "text": [
            "(60, 200, 300, 3)\n",
            "(60, 13, 30, 17)\n"
          ]
        }
      ]
    }
  ]
}